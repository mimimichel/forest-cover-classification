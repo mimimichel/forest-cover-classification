{
 "cells": [
  {
   "cell_type": "markdown",
   "metadata": {},
   "source": [
    "# Cover Type Classification via deep learning model\n",
    "to predict the dominant forest cover type 'Spruce/Fir', 'Lodgepole Pine','Ponderosa Pine', 'Cottonwood/Willow','Aspen', 'Douglas-fir', 'Krummholz' from 54 cartographic variables.\n",
    "## Data set: \n",
    "csv file ('cover_data.csv'), 581012 observations, 54 features and the class (cover type)."
   ]
  },
  {
   "cell_type": "code",
   "execution_count": 27,
   "metadata": {},
   "outputs": [],
   "source": [
    "import numpy as np\n",
    "import pandas as pd\n",
    "\n",
    "from sklearn.preprocessing import StandardScaler\n",
    "from sklearn.model_selection import train_test_split\n",
    "\n",
    "from sklearn.metrics import confusion_matrix\n",
    "from sklearn.metrics import classification_report\n",
    "\n",
    "\n",
    "import tensorflow as tf\n",
    "from tensorflow import keras\n",
    "from tensorflow.keras.models import Sequential\n",
    "from tensorflow.keras.layers import Dense, InputLayer\n",
    "from tensorflow.keras import layers\n",
    "from tensorflow.keras.callbacks import EarlyStopping\n",
    "\n",
    "import matplotlib.pyplot as plt\n",
    "import seaborn as sns\n",
    "\n",
    "RSEED = 42"
   ]
  },
  {
   "cell_type": "code",
   "execution_count": 28,
   "metadata": {},
   "outputs": [],
   "source": [
    "# Read in dataset\n",
    "#df = pd.read_csv('cover_data.csv')"
   ]
  },
  {
   "cell_type": "code",
   "execution_count": 29,
   "metadata": {},
   "outputs": [
    {
     "data": {
      "text/plain": [
       "Counter({5: 9493, 2: 283301, 1: 211840, 7: 20510, 3: 35754, 6: 17367, 4: 2747})"
      ]
     },
     "execution_count": 29,
     "metadata": {},
     "output_type": "execute_result"
    }
   ],
   "source": [
    "# Check classes for balance\n",
    "from collections import Counter\n",
    "Counter(df['class'])"
   ]
  },
  {
   "cell_type": "markdown",
   "metadata": {},
   "source": [
    "The dataset is imbalanced. Classes 1 and 2 make for most of the data. We might achieve high accuracy with a poor classification of minority classes."
   ]
  },
  {
   "cell_type": "markdown",
   "metadata": {},
   "source": [
    "# Preprocessing function"
   ]
  },
  {
   "cell_type": "markdown",
   "metadata": {},
   "source": [
    "Without any separate test dataset, part of the data are to be used as test data."
   ]
  },
  {
   "cell_type": "code",
   "execution_count": 30,
   "metadata": {},
   "outputs": [],
   "source": [
    "def prepare_data(df):\n",
    "    # Separate target and features, transform class integers into one-hot vector in target (y)\n",
    "    data = df.values\n",
    "    X, y = data[:, :-1], data[:, -1]\n",
    "\n",
    "    # One-hot encode target column\n",
    "    y = tf.keras.utils.to_categorical(y, dtype = 'int64')\n",
    "\n",
    "    # Split data with stratification (slight imbalance for classes 4 and 5)\n",
    "    X_train, X_test, y_train, y_test = train_test_split(X, y, test_size=0.20, random_state=RSEED, stratify=y)\n",
    "\n",
    "    # Scale data with Standard Scaler\n",
    "    scaler = StandardScaler()\n",
    "    X_train_scaled = scaler.fit_transform(X_train)\n",
    "    X_test_scaled = scaler.transform(X_test)\n",
    "\n",
    "    return X_train_scaled, X_test_scaled, y_train, y_test\n"
   ]
  },
  {
   "cell_type": "markdown",
   "metadata": {},
   "source": [
    "# Design model"
   ]
  },
  {
   "cell_type": "code",
   "execution_count": 31,
   "metadata": {},
   "outputs": [],
   "source": [
    "def design_model(num_features):\n",
    "    \n",
    "    model = Sequential()\n",
    "    model.add(InputLayer(input_shape=(num_features,)))\n",
    "    model.add(Dense(64, activation='relu'))\n",
    "    #model.add(layers.Dropout(0.2))\n",
    "    model.add(Dense(32, activation='relu'))\n",
    "    #model.add(layers.Dropout(0.2))\n",
    "    model.add(Dense(8, activation='softmax'))\n",
    "    model.compile(optimizer='adam', loss='categorical_crossentropy', metrics=['accuracy'])\n",
    "    \n",
    "    return model\n"
   ]
  },
  {
   "cell_type": "markdown",
   "metadata": {},
   "source": [
    "# Creating a heatmap function"
   ]
  },
  {
   "cell_type": "code",
   "execution_count": 32,
   "metadata": {},
   "outputs": [],
   "source": [
    "def plot_heatmap(kind_names, y_pred, y_test):\n",
    "    cfm = confusion_matrix(y_test, y_pred)\n",
    "    fig, ax = plt.subplots(figsize=(18, 18))\n",
    "    heatmap = sns.heatmap(cfm, fmt='g', cmap='Blues', annot=True, ax=ax)\n",
    "    ax.set_xlabel('Predicted Class')\n",
    "    ax.set_ylabel('True Class')\n",
    "    ax.set_title('Confusion Matrix')\n",
    "    ax.set_xticks([0.5, 1.5, 2.5, 3.5, 4.5, 5.5, 6.5])\n",
    "    ax.set_yticks([0.5, 1.5, 2.5, 3.5, 4.5, 5.5, 6.5])\n",
    "    ax.set_xticklabels(kind_names)\n",
    "    ax.set_yticklabels(kind_names)"
   ]
  },
  {
   "cell_type": "markdown",
   "metadata": {},
   "source": [
    "# ... and a plotting function"
   ]
  },
  {
   "cell_type": "code",
   "execution_count": 33,
   "metadata": {},
   "outputs": [],
   "source": [
    "def plot_history(history, param):\n",
    "    \"\"\"\n",
    "    Monitor model performance (in terms of accuracy and loss) over several epochs.\n",
    "    \"\"\"\n",
    "    if param == 'acc':\n",
    "        plt.plot(history.history['accuracy'])\n",
    "        plt.plot(history.history['val_accuracy'])\n",
    "        plt.title('model accuracy')\n",
    "        plt.ylabel('accuracy')\n",
    "        plt.xlabel('epoch')\n",
    "        plt.legend(['train', 'val'], loc='upper left')\n",
    "        plt.show()\n",
    "    elif param == 'loss':\n",
    "        plt.plot(history.history['loss'])\n",
    "        plt.plot(history.history['val_loss'])\n",
    "        plt.title('model loss')\n",
    "        plt.ylabel('loss')\n",
    "        plt.xlabel('epoch')\n",
    "        plt.legend(['train', 'val'], loc='upper right')\n",
    "        plt.show()"
   ]
  },
  {
   "cell_type": "markdown",
   "metadata": {},
   "source": [
    "# Main function to train and evaluate the model"
   ]
  },
  {
   "cell_type": "code",
   "execution_count": 34,
   "metadata": {},
   "outputs": [],
   "source": [
    "def main():\n",
    "    data = 'cover_data.csv'\n",
    "    df = pd.read_csv(data)\n",
    "\n",
    "    cols = df.columns.tolist()\n",
    "    features, label = cols[:-1], cols[-1]\n",
    "    X_train, X_test, y_train, y_test = prepare_data(df)\n",
    "\n",
    "    # Build a DL model\n",
    "    num_features = len(features)\n",
    "    model = design_model(num_features)\n",
    "\n",
    "    print(\"Summary report of Keras classifier:\")\n",
    "    model.summary()\n",
    "\n",
    "    num_epochs = 100\n",
    "    batch_size = 1024\n",
    "    earlystop_callback = EarlyStopping(monitor='val_accuracy', min_delta=0.0001, patience=10)\n",
    "    history = model.fit(X_train,\n",
    "                    y_train,\n",
    "                    epochs=num_epochs,\n",
    "                    batch_size=batch_size,\n",
    "                    callbacks=[earlystop_callback],\n",
    "                    validation_split=0.1,\n",
    "                    verbose=1)\n",
    "\n",
    "    plot_history(history, 'acc')\n",
    "    plot_history(history, 'loss')\n",
    "\n",
    "    score = model.evaluate(X_test, y_test, verbose=0)\n",
    "    print(f'Test loss: {score[0]}')\n",
    "    print(f'Test accuracy: {score[1]}')\n",
    "\n",
    "    y_pred = model.predict(X_test)\n",
    "\n",
    "    # Convert the pred to discrete values\n",
    "    y_pred = np.argmax(y_pred, axis=1)\n",
    "    y_test = np.argmax(y_test, axis=1)\n",
    "    kind_names = ['Spruce/Fir', 'Lodgepole Pine',\n",
    "                   'Ponderosa Pine', 'Cottonwood/Willow',\n",
    "                   'Aspen', 'Douglas-fir', 'Krummholz']\n",
    "    print(classification_report(y_test, y_pred, target_names=kind_names))\n",
    "    plot_heatmap(kind_names, y_pred, y_test)"
   ]
  },
  {
   "cell_type": "code",
   "execution_count": 35,
   "metadata": {},
   "outputs": [
    {
     "name": "stdout",
     "output_type": "stream",
     "text": [
      "Summary report of Keras classifier:\n",
      "Model: \"sequential_2\"\n",
      "_________________________________________________________________\n",
      "Layer (type)                 Output Shape              Param #   \n",
      "=================================================================\n",
      "dense_7 (Dense)              (None, 64)                3520      \n",
      "_________________________________________________________________\n",
      "dense_8 (Dense)              (None, 32)                2080      \n",
      "_________________________________________________________________\n",
      "dense_9 (Dense)              (None, 8)                 264       \n",
      "=================================================================\n",
      "Total params: 5,864\n",
      "Trainable params: 5,864\n",
      "Non-trainable params: 0\n",
      "_________________________________________________________________\n"
     ]
    },
    {
     "name": "stderr",
     "output_type": "stream",
     "text": [
      "2021-10-27 12:26:39.806542: W tensorflow/core/framework/cpu_allocator_impl.cc:80] Allocation of 90358848 exceeds 10% of free system memory.\n"
     ]
    },
    {
     "name": "stdout",
     "output_type": "stream",
     "text": [
      "Epoch 1/100\n",
      "409/409 [==============================] - 4s 8ms/step - loss: 0.7893 - accuracy: 0.6936 - val_loss: 0.6075 - val_accuracy: 0.7436\n",
      "Epoch 2/100\n",
      "409/409 [==============================] - 3s 7ms/step - loss: 0.5806 - accuracy: 0.7547 - val_loss: 0.5582 - val_accuracy: 0.7622\n",
      "Epoch 3/100\n",
      "409/409 [==============================] - 3s 8ms/step - loss: 0.5433 - accuracy: 0.7693 - val_loss: 0.5310 - val_accuracy: 0.7736\n",
      "Epoch 4/100\n",
      "409/409 [==============================] - 3s 8ms/step - loss: 0.5173 - accuracy: 0.7797 - val_loss: 0.5087 - val_accuracy: 0.7837\n",
      "Epoch 5/100\n",
      "409/409 [==============================] - 3s 8ms/step - loss: 0.4976 - accuracy: 0.7884 - val_loss: 0.4951 - val_accuracy: 0.7910\n",
      "Epoch 6/100\n",
      "409/409 [==============================] - 3s 7ms/step - loss: 0.4817 - accuracy: 0.7962 - val_loss: 0.4817 - val_accuracy: 0.7947\n",
      "Epoch 7/100\n",
      "409/409 [==============================] - 3s 8ms/step - loss: 0.4685 - accuracy: 0.8025 - val_loss: 0.4670 - val_accuracy: 0.8041\n",
      "Epoch 8/100\n",
      "409/409 [==============================] - 3s 8ms/step - loss: 0.4572 - accuracy: 0.8076 - val_loss: 0.4582 - val_accuracy: 0.8069\n",
      "Epoch 9/100\n",
      "409/409 [==============================] - 3s 8ms/step - loss: 0.4490 - accuracy: 0.8111 - val_loss: 0.4496 - val_accuracy: 0.8124\n",
      "Epoch 10/100\n",
      "409/409 [==============================] - 3s 8ms/step - loss: 0.4408 - accuracy: 0.8146 - val_loss: 0.4445 - val_accuracy: 0.8125\n",
      "Epoch 11/100\n",
      "409/409 [==============================] - 3s 8ms/step - loss: 0.4347 - accuracy: 0.8174 - val_loss: 0.4380 - val_accuracy: 0.8186\n",
      "Epoch 12/100\n",
      "409/409 [==============================] - 3s 8ms/step - loss: 0.4286 - accuracy: 0.8205 - val_loss: 0.4307 - val_accuracy: 0.8220\n",
      "Epoch 13/100\n",
      "409/409 [==============================] - 4s 9ms/step - loss: 0.4235 - accuracy: 0.8230 - val_loss: 0.4262 - val_accuracy: 0.8231\n",
      "Epoch 14/100\n",
      "409/409 [==============================] - 3s 8ms/step - loss: 0.4178 - accuracy: 0.8252 - val_loss: 0.4226 - val_accuracy: 0.8218\n",
      "Epoch 15/100\n",
      "409/409 [==============================] - 3s 8ms/step - loss: 0.4142 - accuracy: 0.8268 - val_loss: 0.4199 - val_accuracy: 0.8248\n",
      "Epoch 16/100\n",
      "409/409 [==============================] - 3s 8ms/step - loss: 0.4094 - accuracy: 0.8291 - val_loss: 0.4116 - val_accuracy: 0.8291\n",
      "Epoch 17/100\n",
      "409/409 [==============================] - 3s 7ms/step - loss: 0.4055 - accuracy: 0.8309 - val_loss: 0.4083 - val_accuracy: 0.8298\n",
      "Epoch 18/100\n",
      "409/409 [==============================] - 3s 8ms/step - loss: 0.4021 - accuracy: 0.8324 - val_loss: 0.4076 - val_accuracy: 0.8311\n",
      "Epoch 19/100\n",
      "409/409 [==============================] - 3s 8ms/step - loss: 0.3990 - accuracy: 0.8343 - val_loss: 0.4041 - val_accuracy: 0.8324\n",
      "Epoch 20/100\n",
      "409/409 [==============================] - 3s 8ms/step - loss: 0.3960 - accuracy: 0.8358 - val_loss: 0.3995 - val_accuracy: 0.8351\n",
      "Epoch 21/100\n",
      "409/409 [==============================] - 3s 8ms/step - loss: 0.3929 - accuracy: 0.8369 - val_loss: 0.4025 - val_accuracy: 0.8350\n",
      "Epoch 22/100\n",
      "409/409 [==============================] - 3s 8ms/step - loss: 0.3906 - accuracy: 0.8382 - val_loss: 0.3956 - val_accuracy: 0.8384\n",
      "Epoch 23/100\n",
      "409/409 [==============================] - 3s 8ms/step - loss: 0.3876 - accuracy: 0.8399 - val_loss: 0.3951 - val_accuracy: 0.8368\n",
      "Epoch 24/100\n",
      "409/409 [==============================] - 3s 8ms/step - loss: 0.3850 - accuracy: 0.8407 - val_loss: 0.3905 - val_accuracy: 0.8388\n",
      "Epoch 25/100\n",
      "409/409 [==============================] - 3s 8ms/step - loss: 0.3829 - accuracy: 0.8412 - val_loss: 0.3895 - val_accuracy: 0.8383\n",
      "Epoch 26/100\n",
      "409/409 [==============================] - 3s 8ms/step - loss: 0.3798 - accuracy: 0.8431 - val_loss: 0.3870 - val_accuracy: 0.8388\n",
      "Epoch 27/100\n",
      "409/409 [==============================] - 3s 8ms/step - loss: 0.3780 - accuracy: 0.8438 - val_loss: 0.3897 - val_accuracy: 0.8419\n",
      "Epoch 28/100\n",
      "409/409 [==============================] - 3s 8ms/step - loss: 0.3757 - accuracy: 0.8444 - val_loss: 0.3813 - val_accuracy: 0.8449\n",
      "Epoch 29/100\n",
      "409/409 [==============================] - 4s 9ms/step - loss: 0.3740 - accuracy: 0.8457 - val_loss: 0.3781 - val_accuracy: 0.8440\n",
      "Epoch 30/100\n",
      "409/409 [==============================] - 4s 9ms/step - loss: 0.3719 - accuracy: 0.8464 - val_loss: 0.3801 - val_accuracy: 0.8439\n",
      "Epoch 31/100\n",
      "409/409 [==============================] - 3s 8ms/step - loss: 0.3706 - accuracy: 0.8471 - val_loss: 0.3758 - val_accuracy: 0.8463\n",
      "Epoch 32/100\n",
      "409/409 [==============================] - 4s 10ms/step - loss: 0.3682 - accuracy: 0.8482 - val_loss: 0.3743 - val_accuracy: 0.8471\n",
      "Epoch 33/100\n",
      "409/409 [==============================] - 3s 9ms/step - loss: 0.3670 - accuracy: 0.8488 - val_loss: 0.3786 - val_accuracy: 0.8442\n",
      "Epoch 34/100\n",
      "409/409 [==============================] - 3s 8ms/step - loss: 0.3654 - accuracy: 0.8496 - val_loss: 0.3732 - val_accuracy: 0.8492\n",
      "Epoch 35/100\n",
      "409/409 [==============================] - 4s 9ms/step - loss: 0.3637 - accuracy: 0.8501 - val_loss: 0.3685 - val_accuracy: 0.8493\n",
      "Epoch 36/100\n",
      "409/409 [==============================] - 3s 9ms/step - loss: 0.3627 - accuracy: 0.8509 - val_loss: 0.3690 - val_accuracy: 0.8489\n",
      "Epoch 37/100\n",
      "409/409 [==============================] - 3s 8ms/step - loss: 0.3612 - accuracy: 0.8513 - val_loss: 0.3673 - val_accuracy: 0.8498\n",
      "Epoch 38/100\n",
      "409/409 [==============================] - 3s 8ms/step - loss: 0.3593 - accuracy: 0.8523 - val_loss: 0.3666 - val_accuracy: 0.8504\n",
      "Epoch 39/100\n",
      "409/409 [==============================] - 3s 8ms/step - loss: 0.3588 - accuracy: 0.8524 - val_loss: 0.3643 - val_accuracy: 0.8493\n",
      "Epoch 40/100\n",
      "409/409 [==============================] - 3s 8ms/step - loss: 0.3573 - accuracy: 0.8531 - val_loss: 0.3615 - val_accuracy: 0.8521\n",
      "Epoch 41/100\n",
      "409/409 [==============================] - 3s 8ms/step - loss: 0.3557 - accuracy: 0.8538 - val_loss: 0.3653 - val_accuracy: 0.8506\n",
      "Epoch 42/100\n",
      "409/409 [==============================] - 3s 8ms/step - loss: 0.3547 - accuracy: 0.8540 - val_loss: 0.3571 - val_accuracy: 0.8553\n",
      "Epoch 43/100\n",
      "409/409 [==============================] - 3s 8ms/step - loss: 0.3538 - accuracy: 0.8546 - val_loss: 0.3622 - val_accuracy: 0.8529\n",
      "Epoch 44/100\n",
      "409/409 [==============================] - 3s 7ms/step - loss: 0.3523 - accuracy: 0.8555 - val_loss: 0.3636 - val_accuracy: 0.8519\n",
      "Epoch 45/100\n",
      "409/409 [==============================] - 3s 8ms/step - loss: 0.3515 - accuracy: 0.8558 - val_loss: 0.3646 - val_accuracy: 0.8483\n",
      "Epoch 46/100\n",
      "409/409 [==============================] - 3s 8ms/step - loss: 0.3507 - accuracy: 0.8560 - val_loss: 0.3581 - val_accuracy: 0.8531\n",
      "Epoch 47/100\n",
      "409/409 [==============================] - 3s 9ms/step - loss: 0.3493 - accuracy: 0.8567 - val_loss: 0.3583 - val_accuracy: 0.8543\n",
      "Epoch 48/100\n",
      "409/409 [==============================] - 3s 8ms/step - loss: 0.3484 - accuracy: 0.8570 - val_loss: 0.3540 - val_accuracy: 0.8548\n",
      "Epoch 49/100\n",
      "409/409 [==============================] - 3s 8ms/step - loss: 0.3474 - accuracy: 0.8578 - val_loss: 0.3525 - val_accuracy: 0.8558\n",
      "Epoch 50/100\n",
      "409/409 [==============================] - 3s 8ms/step - loss: 0.3464 - accuracy: 0.8583 - val_loss: 0.3526 - val_accuracy: 0.8579\n",
      "Epoch 51/100\n",
      "409/409 [==============================] - 3s 8ms/step - loss: 0.3462 - accuracy: 0.8585 - val_loss: 0.3559 - val_accuracy: 0.8538\n",
      "Epoch 52/100\n",
      "409/409 [==============================] - 3s 8ms/step - loss: 0.3449 - accuracy: 0.8588 - val_loss: 0.3498 - val_accuracy: 0.8563\n",
      "Epoch 53/100\n",
      "409/409 [==============================] - 3s 8ms/step - loss: 0.3440 - accuracy: 0.8589 - val_loss: 0.3500 - val_accuracy: 0.8565\n",
      "Epoch 54/100\n",
      "409/409 [==============================] - 3s 8ms/step - loss: 0.3438 - accuracy: 0.8589 - val_loss: 0.3534 - val_accuracy: 0.8552\n",
      "Epoch 55/100\n",
      "409/409 [==============================] - 3s 7ms/step - loss: 0.3417 - accuracy: 0.8601 - val_loss: 0.3488 - val_accuracy: 0.8579\n",
      "Epoch 56/100\n",
      "409/409 [==============================] - 3s 8ms/step - loss: 0.3416 - accuracy: 0.8599 - val_loss: 0.3542 - val_accuracy: 0.8567\n",
      "Epoch 57/100\n",
      "409/409 [==============================] - 3s 7ms/step - loss: 0.3405 - accuracy: 0.8603 - val_loss: 0.3508 - val_accuracy: 0.8562\n",
      "Epoch 58/100\n",
      "409/409 [==============================] - 3s 8ms/step - loss: 0.3402 - accuracy: 0.8609 - val_loss: 0.3493 - val_accuracy: 0.8563\n",
      "Epoch 59/100\n",
      "409/409 [==============================] - 3s 8ms/step - loss: 0.3388 - accuracy: 0.8615 - val_loss: 0.3476 - val_accuracy: 0.8607\n",
      "Epoch 60/100\n",
      "409/409 [==============================] - 3s 8ms/step - loss: 0.3383 - accuracy: 0.8612 - val_loss: 0.3495 - val_accuracy: 0.8546\n",
      "Epoch 61/100\n",
      "409/409 [==============================] - 3s 8ms/step - loss: 0.3380 - accuracy: 0.8613 - val_loss: 0.3437 - val_accuracy: 0.8616\n",
      "Epoch 62/100\n",
      "409/409 [==============================] - 3s 8ms/step - loss: 0.3371 - accuracy: 0.8623 - val_loss: 0.3442 - val_accuracy: 0.8600\n",
      "Epoch 63/100\n",
      "409/409 [==============================] - 3s 8ms/step - loss: 0.3365 - accuracy: 0.8623 - val_loss: 0.3448 - val_accuracy: 0.8585\n",
      "Epoch 64/100\n",
      "409/409 [==============================] - 3s 8ms/step - loss: 0.3361 - accuracy: 0.8622 - val_loss: 0.3416 - val_accuracy: 0.8613\n",
      "Epoch 65/100\n",
      "409/409 [==============================] - 3s 8ms/step - loss: 0.3355 - accuracy: 0.8627 - val_loss: 0.3421 - val_accuracy: 0.8602\n",
      "Epoch 66/100\n",
      "409/409 [==============================] - 3s 8ms/step - loss: 0.3344 - accuracy: 0.8628 - val_loss: 0.3441 - val_accuracy: 0.8602\n",
      "Epoch 67/100\n",
      "409/409 [==============================] - 3s 8ms/step - loss: 0.3344 - accuracy: 0.8630 - val_loss: 0.3439 - val_accuracy: 0.8617\n",
      "Epoch 68/100\n",
      "409/409 [==============================] - 3s 8ms/step - loss: 0.3337 - accuracy: 0.8631 - val_loss: 0.3439 - val_accuracy: 0.8622\n",
      "Epoch 69/100\n",
      "409/409 [==============================] - 3s 8ms/step - loss: 0.3328 - accuracy: 0.8639 - val_loss: 0.3413 - val_accuracy: 0.8629\n",
      "Epoch 70/100\n",
      "409/409 [==============================] - 3s 8ms/step - loss: 0.3331 - accuracy: 0.8635 - val_loss: 0.3439 - val_accuracy: 0.8608\n",
      "Epoch 71/100\n",
      "409/409 [==============================] - 4s 9ms/step - loss: 0.3319 - accuracy: 0.8641 - val_loss: 0.3412 - val_accuracy: 0.8606\n",
      "Epoch 72/100\n",
      "409/409 [==============================] - 3s 8ms/step - loss: 0.3308 - accuracy: 0.8646 - val_loss: 0.3420 - val_accuracy: 0.8625\n",
      "Epoch 73/100\n",
      "409/409 [==============================] - 3s 9ms/step - loss: 0.3309 - accuracy: 0.8645 - val_loss: 0.3371 - val_accuracy: 0.8634\n",
      "Epoch 74/100\n",
      "409/409 [==============================] - 3s 8ms/step - loss: 0.3301 - accuracy: 0.8650 - val_loss: 0.3387 - val_accuracy: 0.8638\n",
      "Epoch 75/100\n",
      "409/409 [==============================] - 3s 7ms/step - loss: 0.3290 - accuracy: 0.8652 - val_loss: 0.3410 - val_accuracy: 0.8599\n",
      "Epoch 76/100\n",
      "409/409 [==============================] - 3s 8ms/step - loss: 0.3293 - accuracy: 0.8652 - val_loss: 0.3369 - val_accuracy: 0.8628\n",
      "Epoch 77/100\n",
      "409/409 [==============================] - 3s 8ms/step - loss: 0.3292 - accuracy: 0.8651 - val_loss: 0.3360 - val_accuracy: 0.8638\n",
      "Epoch 78/100\n",
      "409/409 [==============================] - 3s 8ms/step - loss: 0.3282 - accuracy: 0.8650 - val_loss: 0.3351 - val_accuracy: 0.8636\n",
      "Epoch 79/100\n",
      "409/409 [==============================] - 3s 8ms/step - loss: 0.3269 - accuracy: 0.8658 - val_loss: 0.3351 - val_accuracy: 0.8647\n",
      "Epoch 80/100\n",
      "409/409 [==============================] - 3s 8ms/step - loss: 0.3271 - accuracy: 0.8658 - val_loss: 0.3360 - val_accuracy: 0.8635\n",
      "Epoch 81/100\n",
      "409/409 [==============================] - 3s 8ms/step - loss: 0.3262 - accuracy: 0.8665 - val_loss: 0.3416 - val_accuracy: 0.8600\n",
      "Epoch 82/100\n",
      "409/409 [==============================] - 3s 7ms/step - loss: 0.3263 - accuracy: 0.8663 - val_loss: 0.3377 - val_accuracy: 0.8621\n",
      "Epoch 83/100\n",
      "409/409 [==============================] - 3s 7ms/step - loss: 0.3251 - accuracy: 0.8669 - val_loss: 0.3348 - val_accuracy: 0.8647\n",
      "Epoch 84/100\n",
      "409/409 [==============================] - 3s 8ms/step - loss: 0.3252 - accuracy: 0.8667 - val_loss: 0.3392 - val_accuracy: 0.8625\n",
      "Epoch 85/100\n",
      "409/409 [==============================] - 3s 8ms/step - loss: 0.3248 - accuracy: 0.8669 - val_loss: 0.3332 - val_accuracy: 0.8648\n",
      "Epoch 86/100\n",
      "409/409 [==============================] - 3s 7ms/step - loss: 0.3251 - accuracy: 0.8662 - val_loss: 0.3313 - val_accuracy: 0.8650\n",
      "Epoch 87/100\n",
      "409/409 [==============================] - 3s 8ms/step - loss: 0.3230 - accuracy: 0.8674 - val_loss: 0.3305 - val_accuracy: 0.8659\n",
      "Epoch 88/100\n",
      "409/409 [==============================] - 3s 8ms/step - loss: 0.3235 - accuracy: 0.8673 - val_loss: 0.3309 - val_accuracy: 0.8670\n",
      "Epoch 89/100\n",
      "409/409 [==============================] - 3s 8ms/step - loss: 0.3225 - accuracy: 0.8681 - val_loss: 0.3350 - val_accuracy: 0.8637\n",
      "Epoch 90/100\n",
      "409/409 [==============================] - 3s 8ms/step - loss: 0.3230 - accuracy: 0.8677 - val_loss: 0.3321 - val_accuracy: 0.8642\n",
      "Epoch 91/100\n",
      "409/409 [==============================] - 3s 8ms/step - loss: 0.3219 - accuracy: 0.8684 - val_loss: 0.3307 - val_accuracy: 0.8651\n",
      "Epoch 92/100\n",
      "409/409 [==============================] - 3s 7ms/step - loss: 0.3220 - accuracy: 0.8678 - val_loss: 0.3285 - val_accuracy: 0.8674\n",
      "Epoch 93/100\n",
      "409/409 [==============================] - 3s 7ms/step - loss: 0.3214 - accuracy: 0.8685 - val_loss: 0.3293 - val_accuracy: 0.8662\n",
      "Epoch 94/100\n",
      "409/409 [==============================] - 3s 8ms/step - loss: 0.3211 - accuracy: 0.8688 - val_loss: 0.3299 - val_accuracy: 0.8668\n",
      "Epoch 95/100\n",
      "409/409 [==============================] - 3s 8ms/step - loss: 0.3208 - accuracy: 0.8691 - val_loss: 0.3274 - val_accuracy: 0.8667\n",
      "Epoch 96/100\n",
      "409/409 [==============================] - 3s 7ms/step - loss: 0.3193 - accuracy: 0.8692 - val_loss: 0.3314 - val_accuracy: 0.8661\n",
      "Epoch 97/100\n",
      "409/409 [==============================] - 3s 7ms/step - loss: 0.3189 - accuracy: 0.8693 - val_loss: 0.3322 - val_accuracy: 0.8641\n",
      "Epoch 98/100\n",
      "409/409 [==============================] - 3s 8ms/step - loss: 0.3192 - accuracy: 0.8692 - val_loss: 0.3307 - val_accuracy: 0.8661\n",
      "Epoch 99/100\n",
      "409/409 [==============================] - 3s 8ms/step - loss: 0.3185 - accuracy: 0.8699 - val_loss: 0.3360 - val_accuracy: 0.8611\n",
      "Epoch 100/100\n",
      "409/409 [==============================] - 3s 8ms/step - loss: 0.3174 - accuracy: 0.8703 - val_loss: 0.3270 - val_accuracy: 0.8686\n"
     ]
    },
    {
     "data": {
      "image/png": "[encoded data removed]",
      "text/plain": [
       "<Figure size 432x288 with 1 Axes>"
      ]
     },
     "metadata": {
      "needs_background": "light"
     },
     "output_type": "display_data"
    },
    {
     "data": {
      "image/png": "[encoded data removed]",
      "text/plain": [
       "<Figure size 432x288 with 1 Axes>"
      ]
     },
     "metadata": {
      "needs_background": "light"
     },
     "output_type": "display_data"
    },
    {
     "name": "stdout",
     "output_type": "stream",
     "text": [
      "Test loss: 0.3283297121524811\n",
      "Test accuracy: 0.8671548962593079\n",
      "                   precision    recall  f1-score   support\n",
      "\n",
      "       Spruce/Fir       0.88      0.84      0.86     42368\n",
      "   Lodgepole Pine       0.87      0.92      0.89     56661\n",
      "   Ponderosa Pine       0.85      0.86      0.85      7151\n",
      "Cottonwood/Willow       0.85      0.68      0.75       549\n",
      "            Aspen       0.78      0.53      0.63      1899\n",
      "      Douglas-fir       0.75      0.64      0.69      3473\n",
      "        Krummholz       0.89      0.84      0.86      4102\n",
      "\n",
      "         accuracy                           0.87    116203\n",
      "        macro avg       0.84      0.76      0.79    116203\n",
      "     weighted avg       0.87      0.87      0.87    116203\n",
      "\n"
     ]
    },
    {
     "data": {
      "image/png": "[encoded data removed]",
      "text/plain": [
       "<Figure size 1296x1296 with 2 Axes>"
      ]
     },
     "metadata": {
      "needs_background": "light"
     },
     "output_type": "display_data"
    }
   ],
   "source": [
    "if __name__ == '__main__':\n",
    "    main()"
   ]
  },
  {
   "cell_type": "markdown",
   "metadata": {},
   "source": [
    "# Conclusions: \n",
    "\n",
    "While the smallest class reaches good precision, Aspen and Douglas-Fir are particularly weak in recall. They suffer from high rates of misclassification that should be investigated on further. For all three classes, a lower f1 indicates a weaker success in classification through weaker recall. Without further information on how the results are to be used, our result might be sufficient or not.\n",
    "\n",
    "The majority classes Spruce/Fir and Lodgepole Pine achieve excellent f1 values. This represents high precision as well as high recall. The gradients of the majority classes have the strongest influence on updating connection weights. A follow-up model could try to undersample/oversample classes to achieve a model that is more successful in recall throughout the classes.\n",
    "\n"
   ]
  },
  {
   "cell_type": "markdown",
   "metadata": {},
   "source": []
  }
 ],
 "metadata": {
  "interpreter": {
   "hash": "7688f48eac25829299305fba240a2557bf73afc45b1b89ff2999bc05a033d390"
  },
  "kernelspec": {
   "display_name": "Python 3.8.10 64-bit ('.venv': venv)",
   "name": "python3"
  },
  "language_info": {
   "codemirror_mode": {
    "name": "ipython",
    "version": 3
   },
   "file_extension": ".py",
   "mimetype": "text/x-python",
   "name": "python",
   "nbconvert_exporter": "python",
   "pygments_lexer": "ipython3",
   "version": "3.8.10"
  }
 },
 "nbformat": 4,
 "nbformat_minor": 4
}
